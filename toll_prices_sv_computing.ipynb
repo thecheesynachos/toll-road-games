{
 "cells": [
  {
   "cell_type": "code",
   "execution_count": 263,
   "id": "11657159",
   "metadata": {},
   "outputs": [],
   "source": [
    "import numpy as np\n",
    "import math\n",
    "import pandas as pd\n",
    "import pygambit\n",
    "import itertools\n",
    "import tqdm"
   ]
  },
  {
   "cell_type": "code",
   "execution_count": null,
   "id": "28e8d0cc",
   "metadata": {},
   "outputs": [],
   "source": []
  },
  {
   "cell_type": "code",
   "execution_count": 244,
   "id": "cf445372",
   "metadata": {},
   "outputs": [],
   "source": [
    "csv_fname = 'toll_equil_mock_2p'\n",
    "# csv_fname = 'toll_equil_mock_4p'"
   ]
  },
  {
   "cell_type": "code",
   "execution_count": 245,
   "id": "ab9166f4",
   "metadata": {},
   "outputs": [],
   "source": [
    "df = pd.read_csv(csv_fname + '.csv')"
   ]
  },
  {
   "cell_type": "code",
   "execution_count": 246,
   "id": "945d518b",
   "metadata": {},
   "outputs": [
    {
     "data": {
      "text/plain": [
       "['et1', 'et2']"
      ]
     },
     "execution_count": 246,
     "metadata": {},
     "output_type": "execute_result"
    }
   ],
   "source": [
    "players = sorted(set([s.replace('_revenue', '').replace('_tollprice', '') for s in df.columns]))\n",
    "players"
   ]
  },
  {
   "cell_type": "code",
   "execution_count": 247,
   "id": "ca79e393",
   "metadata": {},
   "outputs": [],
   "source": [
    "rev_dict = dict()\n",
    "for r in df.to_dict('records'):\n",
    "    d_key = tuple(sorted([(p, r[p + '_tollprice']) for p in players]))\n",
    "    rev_dict[d_key] = {p: r[p + '_revenue'] for p in players}"
   ]
  },
  {
   "cell_type": "code",
   "execution_count": 248,
   "id": "ae40a7b5",
   "metadata": {},
   "outputs": [],
   "source": [
    "price_opt = dict()\n",
    "for p in players:\n",
    "    price_opt[p] = np.sort(np.unique(df[p + '_tollprice']))"
   ]
  },
  {
   "cell_type": "code",
   "execution_count": null,
   "id": "e0cffbb2",
   "metadata": {},
   "outputs": [],
   "source": []
  },
  {
   "cell_type": "code",
   "execution_count": 249,
   "id": "0b8314bb",
   "metadata": {},
   "outputs": [],
   "source": [
    "def get_payoff(coalitions):\n",
    "    payoff_shape = tuple(np.prod([len(price_opt[p]) for p in c]) for c in coalitions)\n",
    "    payoff = [np.empty(shape=payoff_shape, dtype=pygambit.Decimal) for c in coalitions]\n",
    "    all_actions = [list(itertools.product(*[price_opt[p] for p in c])) for c in coalitions]\n",
    "    for aas in itertools.product(*[enumerate(c_action) for c_action in all_actions]):\n",
    "        actions_idxs = tuple(a[0] for a in aas)\n",
    "        actions = [a[1] for a in aas]\n",
    "        action = tuple(sorted([(p, t) for (ps, ts) in zip(coalitions, actions) for (p, t) in zip(ps, ts)]))\n",
    "        revs = rev_dict[action]\n",
    "        for (i, c) in enumerate(coalitions):\n",
    "            coal_rev = sum(revs[p] for p in c)\n",
    "            payoff[i][actions_idxs] = pygambit.Decimal(coal_rev)\n",
    "    return payoff, all_actions"
   ]
  },
  {
   "cell_type": "code",
   "execution_count": null,
   "id": "34213f07",
   "metadata": {},
   "outputs": [],
   "source": []
  },
  {
   "cell_type": "code",
   "execution_count": 250,
   "id": "8954b71f",
   "metadata": {},
   "outputs": [],
   "source": [
    "def get_coalition_value(coalitions):\n",
    "    payoffs, all_actions = get_payoff(coalitions)\n",
    "    game = pygambit.Game.from_arrays(*payoffs)\n",
    "    solver = pygambit.nash.ExternalSimpdivSolver()\n",
    "    profile = solver.solve(game)\n",
    "    c_payoff = []\n",
    "    for i, c in enumerate(coalitions):\n",
    "        c_payoff.append(profile[0].payoff(str(i + 1)))\n",
    "    return c_payoff, all_actions, profile[0]"
   ]
  },
  {
   "cell_type": "code",
   "execution_count": null,
   "id": "30d6a86f",
   "metadata": {},
   "outputs": [],
   "source": []
  },
  {
   "cell_type": "code",
   "execution_count": 251,
   "id": "28199358",
   "metadata": {},
   "outputs": [],
   "source": [
    "def powerset(lst):\n",
    "    for i in range(1, len(lst) + 1):\n",
    "        for x in itertools.combinations(lst, i):\n",
    "            yield x\n",
    "            \n",
    "\n",
    "def generate_coalitions(big_coalition):\n",
    "    coalitions = [big_coalition]\n",
    "    for p in players:\n",
    "        if p not in big_coalition:\n",
    "            coalitions.append(tuple([p]))\n",
    "    return coalitions"
   ]
  },
  {
   "cell_type": "code",
   "execution_count": 265,
   "id": "3c135ac1",
   "metadata": {},
   "outputs": [
    {
     "name": "stderr",
     "output_type": "stream",
     "text": [
      "3it [00:00, 22.79it/s]\n"
     ]
    }
   ],
   "source": [
    "coalition_values = dict()\n",
    "for c_i in tqdm.tqdm(powerset(players)):\n",
    "    c = generate_coalitions(c_i)\n",
    "    val = get_coalition_value(c)[0]\n",
    "    coalition_values[c_i] = float(val[0])"
   ]
  },
  {
   "cell_type": "code",
   "execution_count": 266,
   "id": "984c9549",
   "metadata": {},
   "outputs": [
    {
     "name": "stdout",
     "output_type": "stream",
     "text": [
      "('et1',) 507.5 507.5\n",
      "('et2',) 312.5 312.5\n",
      "('et1', 'et2') 1083.3333333333335 820.0\n"
     ]
    }
   ],
   "source": [
    "for c in coalition_values.keys():\n",
    "    print(c, coalition_values[c], sum(coalition_values[(p,)] for p in c))"
   ]
  },
  {
   "cell_type": "code",
   "execution_count": 267,
   "id": "939ea0ca",
   "metadata": {},
   "outputs": [],
   "source": [
    "shapley = {p: 0. for p in players}\n",
    "\n",
    "for ps_perm in itertools.permutations(players):\n",
    "    curr_gain = 0.\n",
    "    for i in range(len(players)):\n",
    "        p_i = ps_perm[i]\n",
    "        val = coalition_values[tuple(sorted(ps_perm[:i+1]))]\n",
    "        shapley[p_i] += (val - curr_gain) / math.factorial(len(players))\n",
    "        curr_gain = val"
   ]
  },
  {
   "cell_type": "code",
   "execution_count": 268,
   "id": "7bd398fc",
   "metadata": {},
   "outputs": [
    {
     "data": {
      "text/plain": [
       "{'et1': 639.1666666666667, 'et2': 444.16666666666674}"
      ]
     },
     "execution_count": 268,
     "metadata": {},
     "output_type": "execute_result"
    }
   ],
   "source": [
    "shapley"
   ]
  },
  {
   "cell_type": "code",
   "execution_count": 269,
   "id": "7cba154a",
   "metadata": {},
   "outputs": [
    {
     "data": {
      "text/plain": [
       "1083.3333333333335"
      ]
     },
     "execution_count": 269,
     "metadata": {},
     "output_type": "execute_result"
    }
   ],
   "source": [
    "sum(shapley.values())"
   ]
  },
  {
   "cell_type": "code",
   "execution_count": 270,
   "id": "a7bcdd01",
   "metadata": {},
   "outputs": [
    {
     "data": {
      "text/plain": [
       "820.0"
      ]
     },
     "execution_count": 270,
     "metadata": {},
     "output_type": "execute_result"
    }
   ],
   "source": [
    "sum(coalition_values[(p,)] for p in players)"
   ]
  },
  {
   "cell_type": "code",
   "execution_count": null,
   "id": "fc20cfbb",
   "metadata": {},
   "outputs": [],
   "source": []
  },
  {
   "cell_type": "code",
   "execution_count": null,
   "id": "e500736e",
   "metadata": {},
   "outputs": [],
   "source": []
  },
  {
   "cell_type": "markdown",
   "id": "0bacb961",
   "metadata": {},
   "source": [
    "## Scrap code below"
   ]
  },
  {
   "cell_type": "code",
   "execution_count": 238,
   "id": "9c0922ed",
   "metadata": {},
   "outputs": [
    {
     "name": "stderr",
     "output_type": "stream",
     "text": [
      "15it [00:11,  1.26it/s]\n"
     ]
    }
   ],
   "source": [
    "coal_val_indiv = []\n",
    "\n",
    "for c_i in tqdm.tqdm(powerset(players)):\n",
    "    d = dict()\n",
    "    c = generate_coalitions(c_i)\n",
    "    val = get_coalition_value(c)[0]\n",
    "    d['T'] = '$\\{' + ','.join('e_{t,' + p[-1] + '}' for p in c_i) + '\\}$'\n",
    "    d['u_big'] = f'{float(val[0]):.1f}'\n",
    "    for (p, v) in zip(c, val):\n",
    "        if len(p) == 1:\n",
    "            p = 'e_{t,' + p[0][-1] + '}'\n",
    "            d[p] = f'{float(v):.1f}'\n",
    "    d['tot'] = f'{float(sum(val)):.1f}'\n",
    "    coal_val_indiv.append(d)"
   ]
  },
  {
   "cell_type": "code",
   "execution_count": 239,
   "id": "65f7b565",
   "metadata": {},
   "outputs": [
    {
     "name": "stdout",
     "output_type": "stream",
     "text": [
      "\\begin{tabular}{llllllr}\n",
      " & u_big & e_{t,1} & e_{t,2} & e_{t,3} & e_{t,4} & tot \\\\\n",
      "T &  &  &  &  &  &  \\\\\n",
      "$\\{e_{t,1}\\}$ & 324.5 & 324.5 & 759.0 & 541.1 & 468.0 & 2092.462970 \\\\\n",
      "$\\{e_{t,2}\\}$ & 759.0 & 324.5 & 759.0 & 541.1 & 468.0 & 2092.462970 \\\\\n",
      "$\\{e_{t,3}\\}$ & 541.1 & 324.5 & 759.0 & 541.1 & 468.0 & 2092.462970 \\\\\n",
      "$\\{e_{t,4}\\}$ & 468.0 & 324.5 & 759.0 & 541.1 & 468.0 & 2092.462970 \\\\\n",
      "$\\{e_{t,1},e_{t,2}\\}$ & 1083.9 & nan & nan & 538.2 & 469.6 & 2091.671388 \\\\\n",
      "$\\{e_{t,1},e_{t,3}\\}$ & 867.8 & nan & 750.2 & nan & 466.3 & 2084.380413 \\\\\n",
      "$\\{e_{t,1},e_{t,4}\\}$ & 792.4 & nan & 759.0 & 541.1 & nan & 2092.462970 \\\\\n",
      "$\\{e_{t,2},e_{t,3}\\}$ & 1300.0 & 324.5 & nan & nan & 468.0 & 2092.462970 \\\\\n",
      "$\\{e_{t,2},e_{t,4}\\}$ & 1226.9 & 324.5 & nan & 541.1 & nan & 2092.462970 \\\\\n",
      "$\\{e_{t,3},e_{t,4}\\}$ & 1023.2 & 326.3 & 754.9 & nan & nan & 2104.385269 \\\\\n",
      "$\\{e_{t,1},e_{t,2},e_{t,3}\\}$ & 1624.5 & nan & nan & nan & 468.0 & 2092.462970 \\\\\n",
      "$\\{e_{t,1},e_{t,2},e_{t,4}\\}$ & 1553.4 & nan & nan & 538.2 & nan & 2091.671388 \\\\\n",
      "$\\{e_{t,1},e_{t,3},e_{t,4}\\}$ & 1351.2 & nan & 750.9 & nan & nan & 2102.046135 \\\\\n",
      "$\\{e_{t,2},e_{t,3},e_{t,4}\\}$ & 1778.1 & 326.3 & nan & nan & nan & 2104.385269 \\\\\n",
      "$\\{e_{t,1},e_{t,2},e_{t,3},e_{t,4}\\}$ & 2104.4 & nan & nan & nan & nan & 2104.385269 \\\\\n",
      "\\end{tabular}\n",
      "\n"
     ]
    }
   ],
   "source": [
    "print(pd.DataFrame(coal_val_indiv).set_index('T').style.to_latex())"
   ]
  },
  {
   "cell_type": "code",
   "execution_count": 242,
   "id": "dbd3b82f",
   "metadata": {
    "scrolled": true
   },
   "outputs": [
    {
     "name": "stdout",
     "output_type": "stream",
     "text": [
      "\\begin{tabular}{ll}\n",
      " & s \\\\\n",
      "e &  \\\\\n",
      "$e_{t,1}$ & 325.6 \\\\\n",
      "$e_{t,2}$ & 757.2 \\\\\n",
      "$e_{t,3}$ & 547.2 \\\\\n",
      "$e_{t,4}$ & 474.4 \\\\\n",
      "\\end{tabular}\n",
      "\n"
     ]
    }
   ],
   "source": [
    "print(pd.DataFrame([{'e': '$e_{t,' + k[-1] + '}$', 's': f'{v:.1f}'} for (k, v) in shapley.items()]).set_index('e').style.to_latex())"
   ]
  },
  {
   "cell_type": "code",
   "execution_count": 258,
   "id": "a75a32f6",
   "metadata": {},
   "outputs": [
    {
     "data": {
      "text/html": [
       "<div>\n",
       "<style scoped>\n",
       "    .dataframe tbody tr th:only-of-type {\n",
       "        vertical-align: middle;\n",
       "    }\n",
       "\n",
       "    .dataframe tbody tr th {\n",
       "        vertical-align: top;\n",
       "    }\n",
       "\n",
       "    .dataframe thead th {\n",
       "        text-align: right;\n",
       "    }\n",
       "</style>\n",
       "<table border=\"1\" class=\"dataframe\">\n",
       "  <thead>\n",
       "    <tr style=\"text-align: right;\">\n",
       "      <th></th>\n",
       "      <th>et2_revenue</th>\n",
       "      <th>et2_tollprice</th>\n",
       "      <th>et1_tollprice</th>\n",
       "      <th>et1_revenue</th>\n",
       "    </tr>\n",
       "  </thead>\n",
       "  <tbody>\n",
       "    <tr>\n",
       "      <th>0</th>\n",
       "      <td>78.333333</td>\n",
       "      <td>4</td>\n",
       "      <td>0</td>\n",
       "      <td>0.000000</td>\n",
       "    </tr>\n",
       "    <tr>\n",
       "      <th>1</th>\n",
       "      <td>332.500000</td>\n",
       "      <td>14</td>\n",
       "      <td>16</td>\n",
       "      <td>620.000000</td>\n",
       "    </tr>\n",
       "    <tr>\n",
       "      <th>2</th>\n",
       "      <td>125.000000</td>\n",
       "      <td>20</td>\n",
       "      <td>16</td>\n",
       "      <td>820.000000</td>\n",
       "    </tr>\n",
       "    <tr>\n",
       "      <th>3</th>\n",
       "      <td>0.000000</td>\n",
       "      <td>0</td>\n",
       "      <td>0</td>\n",
       "      <td>0.000000</td>\n",
       "    </tr>\n",
       "    <tr>\n",
       "      <th>4</th>\n",
       "      <td>0.000000</td>\n",
       "      <td>20</td>\n",
       "      <td>2</td>\n",
       "      <td>151.428571</td>\n",
       "    </tr>\n",
       "    <tr>\n",
       "      <th>...</th>\n",
       "      <td>...</td>\n",
       "      <td>...</td>\n",
       "      <td>...</td>\n",
       "      <td>...</td>\n",
       "    </tr>\n",
       "    <tr>\n",
       "      <th>116</th>\n",
       "      <td>92.500000</td>\n",
       "      <td>2</td>\n",
       "      <td>10</td>\n",
       "      <td>312.500000</td>\n",
       "    </tr>\n",
       "    <tr>\n",
       "      <th>117</th>\n",
       "      <td>195.000000</td>\n",
       "      <td>4</td>\n",
       "      <td>14</td>\n",
       "      <td>332.500000</td>\n",
       "    </tr>\n",
       "    <tr>\n",
       "      <th>118</th>\n",
       "      <td>229.166667</td>\n",
       "      <td>10</td>\n",
       "      <td>10</td>\n",
       "      <td>479.166667</td>\n",
       "    </tr>\n",
       "    <tr>\n",
       "      <th>119</th>\n",
       "      <td>105.000000</td>\n",
       "      <td>12</td>\n",
       "      <td>6</td>\n",
       "      <td>382.500000</td>\n",
       "    </tr>\n",
       "    <tr>\n",
       "      <th>120</th>\n",
       "      <td>0.000000</td>\n",
       "      <td>18</td>\n",
       "      <td>0</td>\n",
       "      <td>0.000000</td>\n",
       "    </tr>\n",
       "  </tbody>\n",
       "</table>\n",
       "<p>121 rows × 4 columns</p>\n",
       "</div>"
      ],
      "text/plain": [
       "     et2_revenue  et2_tollprice  et1_tollprice  et1_revenue\n",
       "0      78.333333              4              0     0.000000\n",
       "1     332.500000             14             16   620.000000\n",
       "2     125.000000             20             16   820.000000\n",
       "3       0.000000              0              0     0.000000\n",
       "4       0.000000             20              2   151.428571\n",
       "..           ...            ...            ...          ...\n",
       "116    92.500000              2             10   312.500000\n",
       "117   195.000000              4             14   332.500000\n",
       "118   229.166667             10             10   479.166667\n",
       "119   105.000000             12              6   382.500000\n",
       "120     0.000000             18              0     0.000000\n",
       "\n",
       "[121 rows x 4 columns]"
      ]
     },
     "execution_count": 258,
     "metadata": {},
     "output_type": "execute_result"
    }
   ],
   "source": [
    "df"
   ]
  },
  {
   "cell_type": "code",
   "execution_count": 262,
   "id": "36df8a4e",
   "metadata": {},
   "outputs": [
    {
     "name": "stderr",
     "output_type": "stream",
     "text": [
      "3it [00:00, 47.97it/s]"
     ]
    },
    {
     "name": "stdout",
     "output_type": "stream",
     "text": [
      "<NashProfile for '': [[Rational(0, 1), Rational(0, 1), Rational(0, 1), Rational(0, 1), Rational(0, 1), Rational(0, 1), Rational(0, 1), Rational(1, 1), Rational(0, 1), Rational(0, 1), Rational(0, 1)], [Rational(0, 1), Rational(0, 1), Rational(0, 1), Rational(0, 1), Rational(0, 1), Rational(1, 1), Rational(0, 1), Rational(0, 1), Rational(0, 1), Rational(0, 1), Rational(0, 1)]]>\n",
      "<NashProfile for '': [[Rational(0, 1), Rational(0, 1), Rational(0, 1), Rational(0, 1), Rational(0, 1), Rational(1, 1), Rational(0, 1), Rational(0, 1), Rational(0, 1), Rational(0, 1), Rational(0, 1)], [Rational(0, 1), Rational(0, 1), Rational(0, 1), Rational(0, 1), Rational(0, 1), Rational(0, 1), Rational(0, 1), Rational(1, 1), Rational(0, 1), Rational(0, 1), Rational(0, 1)]]>\n",
      "<NashProfile for '': [[Rational(0, 1), Rational(0, 1), Rational(0, 1), Rational(0, 1), Rational(0, 1), Rational(0, 1), Rational(0, 1), Rational(0, 1), Rational(0, 1), Rational(0, 1), Rational(0, 1), Rational(0, 1), Rational(0, 1), Rational(0, 1), Rational(0, 1), Rational(0, 1), Rational(0, 1), Rational(0, 1), Rational(0, 1), Rational(0, 1), Rational(0, 1), Rational(0, 1), Rational(0, 1), Rational(0, 1), Rational(0, 1), Rational(0, 1), Rational(0, 1), Rational(0, 1), Rational(0, 1), Rational(0, 1), Rational(0, 1), Rational(0, 1), Rational(0, 1), Rational(0, 1), Rational(0, 1), Rational(0, 1), Rational(0, 1), Rational(0, 1), Rational(0, 1), Rational(0, 1), Rational(0, 1), Rational(0, 1), Rational(0, 1), Rational(0, 1), Rational(0, 1), Rational(0, 1), Rational(0, 1), Rational(0, 1), Rational(0, 1), Rational(0, 1), Rational(0, 1), Rational(0, 1), Rational(0, 1), Rational(0, 1), Rational(0, 1), Rational(0, 1), Rational(0, 1), Rational(0, 1), Rational(0, 1), Rational(0, 1), Rational(0, 1), Rational(0, 1), Rational(0, 1), Rational(0, 1), Rational(0, 1), Rational(0, 1), Rational(0, 1), Rational(0, 1), Rational(0, 1), Rational(0, 1), Rational(0, 1), Rational(0, 1), Rational(0, 1), Rational(0, 1), Rational(0, 1), Rational(0, 1), Rational(0, 1), Rational(0, 1), Rational(0, 1), Rational(0, 1), Rational(0, 1), Rational(0, 1), Rational(0, 1), Rational(0, 1), Rational(0, 1), Rational(0, 1), Rational(0, 1), Rational(0, 1), Rational(0, 1), Rational(0, 1), Rational(0, 1), Rational(0, 1), Rational(0, 1), Rational(0, 1), Rational(0, 1), Rational(0, 1), Rational(0, 1), Rational(0, 1), Rational(0, 1), Rational(0, 1), Rational(0, 1), Rational(0, 1), Rational(0, 1), Rational(0, 1), Rational(0, 1), Rational(0, 1), Rational(0, 1), Rational(0, 1), Rational(0, 1), Rational(0, 1), Rational(0, 1), Rational(0, 1), Rational(0, 1), Rational(0, 1), Rational(0, 1), Rational(0, 1), Rational(0, 1), Rational(0, 1), Rational(0, 1), Rational(0, 1), Rational(1, 1)]]>\n"
     ]
    },
    {
     "name": "stderr",
     "output_type": "stream",
     "text": [
      "\n"
     ]
    }
   ],
   "source": [
    "coalition_values = dict()\n",
    "for c_i in tqdm.tqdm(powerset(players)):\n",
    "    c = generate_coalitions(c_i)\n",
    "    val, all_actions, profile = get_coalition_value(c)\n",
    "    print(profile)"
   ]
  },
  {
   "cell_type": "code",
   "execution_count": null,
   "id": "65c76f77",
   "metadata": {},
   "outputs": [],
   "source": []
  }
 ],
 "metadata": {
  "kernelspec": {
   "display_name": "Python [conda env:sandbox] *",
   "language": "python",
   "name": "conda-env-sandbox-py"
  },
  "language_info": {
   "codemirror_mode": {
    "name": "ipython",
    "version": 3
   },
   "file_extension": ".py",
   "mimetype": "text/x-python",
   "name": "python",
   "nbconvert_exporter": "python",
   "pygments_lexer": "ipython3",
   "version": "3.8.12"
  }
 },
 "nbformat": 4,
 "nbformat_minor": 5
}
