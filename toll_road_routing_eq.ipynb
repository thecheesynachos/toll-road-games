{
 "cells": [
  {
   "cell_type": "code",
   "execution_count": 290,
   "id": "987ab2cf",
   "metadata": {},
   "outputs": [
    {
     "name": "stderr",
     "output_type": "stream",
     "text": [
      "\u001b[32m\u001b[1m   Resolving\u001b[22m\u001b[39m package versions...\n",
      "\u001b[32m\u001b[1m  No Changes\u001b[22m\u001b[39m to `~/.julia/environments/v1.6/Project.toml`\n",
      "\u001b[32m\u001b[1m  No Changes\u001b[22m\u001b[39m to `~/.julia/environments/v1.6/Manifest.toml`\n"
     ]
    }
   ],
   "source": [
    "using Pkg\n",
    "Pkg.add([\"JuMP\", \"GLPK\", \"IterTools\", \"Combinatorics\", \"ProgressMeter\", \"Graphs\", \"GraphPlot\", \"GameTheory\", \"DataFrames\", \"CSV\"])\n",
    "# Pkg.add([\"Ipopt\"])"
   ]
  },
  {
   "cell_type": "code",
   "execution_count": 1,
   "id": "228b7d04",
   "metadata": {},
   "outputs": [],
   "source": [
    "using JuMP, GLPK, IterTools, Combinatorics, ProgressMeter, Graphs, GraphPlot, DataFrames, CSV"
   ]
  },
  {
   "cell_type": "code",
   "execution_count": null,
   "id": "5e2dc6ce",
   "metadata": {},
   "outputs": [],
   "source": []
  },
  {
   "cell_type": "code",
   "execution_count": 117,
   "id": "691f838f",
   "metadata": {},
   "outputs": [],
   "source": [
    "case_name = \"mock_2p\"\n",
    "\n",
    "V = [:S, :D]\n",
    "\n",
    "E_f = [\n",
    "    (:ef1, :S, :D, 0.5, 20.)   \n",
    "]\n",
    "\n",
    "E_t = [\n",
    "    (:et1, :S, :D, 0.2, 15.),\n",
    "    (:et2, :S, :D, 0.2, 20.),\n",
    "]\n",
    "\n",
    "F = 100.\n",
    "\n",
    "toll_range = 0:2:20\n",
    "\n",
    ";"
   ]
  },
  {
   "cell_type": "code",
   "execution_count": 104,
   "id": "b94e5450",
   "metadata": {},
   "outputs": [],
   "source": [
    "case_name = \"mock_4p\"\n",
    "\n",
    "V = [:S, :A, :B, :C, :D]\n",
    "\n",
    "E_f = [\n",
    "    (:ef1, :S, :A, 0.5, 20.),\n",
    "    (:ef2, :A, :B, 0.5, 20.),\n",
    "    (:ef3, :B, :C, 0.5, 20.),\n",
    "    (:ef4, :C, :D, 0.5, 20.),\n",
    "]\n",
    "\n",
    "E_t = [\n",
    "    (:et1, :S, :A, 0.5, 15.),\n",
    "    (:et2, :S, :C, 1.4, 50.),\n",
    "    (:et3, :B, :D, 0.9, 30.),\n",
    "    (:et4, :C, :D, 0.4, 20.)\n",
    "]\n",
    "\n",
    "F = 100.\n",
    "\n",
    "toll_range = 0:2:20\n",
    "\n",
    ";"
   ]
  },
  {
   "cell_type": "code",
   "execution_count": null,
   "id": "322f1978",
   "metadata": {},
   "outputs": [],
   "source": []
  },
  {
   "cell_type": "code",
   "execution_count": 118,
   "id": "2df04ed5",
   "metadata": {},
   "outputs": [],
   "source": [
    "E = Dict([(e[1], e) for e in vcat(E_f, E_t)])\n",
    "\n",
    "G_in = Dict()\n",
    "G_out = Dict()\n",
    "for (k, v) in E\n",
    "    ename = k\n",
    "    esrc = v[2]\n",
    "    edest = v[3]\n",
    "    if !(esrc in keys(G_out))\n",
    "        G_out[esrc] = []\n",
    "    end\n",
    "    push!(G_out[esrc], ename)\n",
    "    if !(edest in keys(G_in))\n",
    "        G_in[edest] = []\n",
    "    end\n",
    "    push!(G_in[edest], ename)\n",
    "end"
   ]
  },
  {
   "cell_type": "code",
   "execution_count": 119,
   "id": "1bdd5e60",
   "metadata": {},
   "outputs": [],
   "source": [
    "# V_idx = Dict([(V[i], i) for i in 1:length(V)])\n",
    "# graph = Graphs.()\n",
    "# add_vertices!(graph, length(V))\n",
    "# for (_, e) in E\n",
    "#     add_edge!(graph, (V_idx[e[2]], V_idx[e[3]]))\n",
    "# end\n",
    "# gplot(graph, edgelabel=[e[1] for e in values(E)], nodelabel=V)"
   ]
  },
  {
   "cell_type": "code",
   "execution_count": null,
   "id": "e391e64c",
   "metadata": {},
   "outputs": [],
   "source": []
  },
  {
   "cell_type": "code",
   "execution_count": 120,
   "id": "ed04c328",
   "metadata": {},
   "outputs": [
    {
     "data": {
      "text/plain": [
       "route (generic function with 1 method)"
      ]
     },
     "execution_count": 120,
     "metadata": {},
     "output_type": "execute_result"
    }
   ],
   "source": [
    "function route(prev, curr)\n",
    "    if curr == :D\n",
    "        return [prev]\n",
    "    end\n",
    "    paths = []\n",
    "    for e in G_out[curr]\n",
    "        curr_path = vcat(prev, e)\n",
    "        next_nd = E[e][3]\n",
    "        for p in route(curr_path, next_nd)\n",
    "            push!(paths, p)\n",
    "        end\n",
    "    end\n",
    "    return paths\n",
    "end"
   ]
  },
  {
   "cell_type": "code",
   "execution_count": 121,
   "id": "0e9b1dc2",
   "metadata": {},
   "outputs": [
    {
     "data": {
      "text/plain": [
       "3-element Vector{Any}:\n",
       " Any[:ef1]\n",
       " Any[:et2]\n",
       " Any[:et1]"
      ]
     },
     "execution_count": 121,
     "metadata": {},
     "output_type": "execute_result"
    }
   ],
   "source": [
    "R = route([], :S)"
   ]
  },
  {
   "cell_type": "code",
   "execution_count": 122,
   "id": "d40b823c",
   "metadata": {},
   "outputs": [],
   "source": [
    "M = 1e4\n",
    "m = 1e-4\n",
    ";"
   ]
  },
  {
   "cell_type": "code",
   "execution_count": 123,
   "id": "fbc6fdc7",
   "metadata": {},
   "outputs": [
    {
     "data": {
      "text/plain": [
       "travel_equilibrium (generic function with 1 method)"
      ]
     },
     "execution_count": 123,
     "metadata": {},
     "output_type": "execute_result"
    }
   ],
   "source": [
    "function travel_equilibrium(toll_prices)\n",
    "\n",
    "    model = Model(GLPK.Optimizer)\n",
    "    @variable(model, x[keys(E)])\n",
    "    @variable(model, y[1:length(R)])\n",
    "    @variable(model, h[1:length(R)], Bin)\n",
    "    @variable(model, r)\n",
    "\n",
    "    @constraint(model, x .>= 0)\n",
    "    @constraint(model, y .>= 0)\n",
    "    @constraint(model, r .>= 0)\n",
    "    \n",
    "    @constraint(model, sum(y) == F)\n",
    "    \n",
    "    for nd in V\n",
    "        if nd == :S\n",
    "            @constraint(model, sum([x[i] for i in G_out[nd]]) == F)\n",
    "        elseif nd == :D\n",
    "            @constraint(model, sum([x[i] for i in G_in[nd]]) == F)\n",
    "        else\n",
    "            @constraint(model, sum([x[i] for i in G_in[nd]]) == sum([x[i] for i in G_out[nd]]))\n",
    "        end\n",
    "    end\n",
    "\n",
    "    for (e, _) in E\n",
    "        @constraint(model, sum([y[i] for i in 1:length(R) if e in R[i]]) == x[e])\n",
    "    end\n",
    "\n",
    "    for i in 1:length(R)\n",
    "        @constraint(model, M * (h[i] - 1) + sum([E[e][4] * x[e] + E[e][5] + get(toll_prices, e, 0.) for e in R[i]]) <= r)\n",
    "        @constraint(model, sum([E[e][4] * x[e] + E[e][5] + get(toll_prices, e, 0.) for e in R[i]]) >= r)\n",
    "        @constraint(model, y[i] <= M * h[i])\n",
    "    end\n",
    "    @objective(model, Min, r)\n",
    "    optimize!(model)\n",
    "    \n",
    "    return x, y, h, r\n",
    "end"
   ]
  },
  {
   "cell_type": "code",
   "execution_count": 124,
   "id": "c9e16c90",
   "metadata": {},
   "outputs": [
    {
     "data": {
      "text/plain": [
       "path_cost (generic function with 1 method)"
      ]
     },
     "execution_count": 124,
     "metadata": {},
     "output_type": "execute_result"
    }
   ],
   "source": [
    "function toll_revenue(x, toll_price)\n",
    "    return Dict([(e, value(x[e] * get(toll_price, e, 0.))) for (e, _) in E])\n",
    "end\n",
    "\n",
    "function path_cost(h, toll_price)\n",
    "    return [value(h[i] * sum([E[e][4] * x[e] + E[e][5] + get(toll_price, e, 0.) for e in R[i]])) for i in 1:length(R)]\n",
    "end"
   ]
  },
  {
   "cell_type": "code",
   "execution_count": null,
   "id": "6f9874b8",
   "metadata": {},
   "outputs": [],
   "source": []
  },
  {
   "cell_type": "code",
   "execution_count": 125,
   "id": "23b0faa5",
   "metadata": {},
   "outputs": [
    {
     "name": "stderr",
     "output_type": "stream",
     "text": [
      "\u001b[32mProgress: 100%|█████████████████████████████████████████| Time: 0:00:00\u001b[39m\n"
     ]
    }
   ],
   "source": [
    "results = Dict()\n",
    "\n",
    "@showprogress for tp in product([[(e[1], t) for t in toll_range] for e in E_t]...)\n",
    "    results[tp] = travel_equilibrium(Dict(tp))\n",
    "end"
   ]
  },
  {
   "cell_type": "code",
   "execution_count": 126,
   "id": "d44c43f1",
   "metadata": {},
   "outputs": [],
   "source": [
    "results_revenue = Dict()\n",
    "\n",
    "@showprogress for (tp, (x, y, h, r)) in results\n",
    "    results_revenue[tp] = toll_revenue(x, Dict(tp))\n",
    "end"
   ]
  },
  {
   "cell_type": "code",
   "execution_count": 127,
   "id": "d8b90f42",
   "metadata": {
    "scrolled": true
   },
   "outputs": [],
   "source": [
    "# for (tp, (x, y, h, r)) in results\n",
    "#     @show tp\n",
    "#     toll_prices = Dict(tp)\n",
    "#     flow = [value(x[e[1]]) for e in E_t]\n",
    "#     @show flow\n",
    "#     for (i, rt) in enumerate(R)\n",
    "#         println(rt, \" \", value(h[i] * sum([E[e][4] * x[e] + E[e][5] + get(toll_prices, e, 0.) for e in rt])))\n",
    "#     end\n",
    "#     println()\n",
    "# end"
   ]
  },
  {
   "cell_type": "code",
   "execution_count": 128,
   "id": "1ada50f9",
   "metadata": {},
   "outputs": [],
   "source": [
    "data_rows = []\n",
    "\n",
    "@showprogress for (tp, (x, y, h, r)) in results\n",
    "    rev = results_revenue[tp]\n",
    "    data_row = Dict()\n",
    "    for (p, t) in tp\n",
    "        data_row[Symbol(join([string(p), \"_tollprice\"]))] = t\n",
    "        data_row[Symbol(join([string(p), \"_revenue\"]))] = rev[p]\n",
    "    end\n",
    "    push!(data_rows, NamedTuple{Tuple(keys(data_row))}(values(data_row)))\n",
    "end"
   ]
  },
  {
   "cell_type": "code",
   "execution_count": 129,
   "id": "29101549",
   "metadata": {},
   "outputs": [
    {
     "data": {
      "text/plain": [
       "\"toll_equil_mock_2p.csv\""
      ]
     },
     "execution_count": 129,
     "metadata": {},
     "output_type": "execute_result"
    }
   ],
   "source": [
    "CSV.write(\"toll_equil_$(case_name).csv\", DataFrame(data_rows))"
   ]
  },
  {
   "cell_type": "code",
   "execution_count": null,
   "id": "08651cec",
   "metadata": {},
   "outputs": [],
   "source": []
  },
  {
   "cell_type": "code",
   "execution_count": 136,
   "id": "d1f6da6e",
   "metadata": {},
   "outputs": [
    {
     "data": {
      "text/plain": [
       "1-dimensional DenseAxisArray{Float64,1,...} with index sets:\n",
       "    Dimension 1, [:ef1, :et2, :et1]\n",
       "And data, a 3-element Vector{Float64}:\n",
       " 32.5\n",
       " 31.25\n",
       " 36.25"
      ]
     },
     "execution_count": 136,
     "metadata": {},
     "output_type": "execute_result"
    }
   ],
   "source": [
    "value.(results[((:et1, 14), (:et2, 10))][1])"
   ]
  },
  {
   "cell_type": "code",
   "execution_count": null,
   "id": "ca38575f",
   "metadata": {},
   "outputs": [],
   "source": []
  },
  {
   "cell_type": "code",
   "execution_count": 67,
   "id": "9cb8b01d",
   "metadata": {},
   "outputs": [],
   "source": [
    "# function construct_game(coalitions)\n",
    "#     players = [p for c in coalitions for p in c]\n",
    "#     total_players = length(players)\n",
    "#     player_idx = Dict([(p, i) for (i, p) in enumerate(players)])\n",
    "#     player_coalition = Dict([(p, i) for (i, c) in enumerate(coalitions) for p in c])\n",
    "#     total_prices = length(toll_range)\n",
    "#     gains = Array{Float64}(undef, [total_prices for _ in players]..., total_players)\n",
    "#     for c_choices_idx in product([1:total_prices for _ in players]...)\n",
    "#         c_choices = [(players[c_idx], toll_range[i]) for (c_idx, i) in enumerate(c_choices_idx)]\n",
    "#         c_choices = Tuple(sort(c_choices))\n",
    "#         rev_indiv = results_revenue[c_choices]\n",
    "#         rev_coal = [sum([rev_indiv[e] for e in c]) for c in coalitions]\n",
    "#         for p in 1:total_players\n",
    "#             gains[c_choices_idx..., p] = rev_coal[player_coalition[players[p]]]\n",
    "#         end\n",
    "#     end\n",
    "#     game = GameTheory.NormalFormGame(gains)\n",
    "#     return (game, player_idx)\n",
    "# end"
   ]
  },
  {
   "cell_type": "code",
   "execution_count": null,
   "id": "8b28547f",
   "metadata": {},
   "outputs": [],
   "source": []
  },
  {
   "cell_type": "code",
   "execution_count": 42,
   "id": "e3da3792",
   "metadata": {},
   "outputs": [],
   "source": []
  },
  {
   "cell_type": "code",
   "execution_count": 66,
   "id": "07f318ff",
   "metadata": {},
   "outputs": [],
   "source": [
    "# function sequential_best_response(g::NormalFormGame{N};\n",
    "#                                   init_actions::Vector{Int}=ones(Int, N),\n",
    "#                                   tie_breaking=:smallest,\n",
    "#                                   verbose=false) where N\n",
    "#     a = copy(init_actions)\n",
    "#     if verbose\n",
    "#         println(\"init_actions: $a\")\n",
    "#     end\n",
    "    \n",
    "#     new_a = Array{Int}(undef, N)\n",
    "#     max_iter = prod(g.nums_actions)\n",
    "    \n",
    "#     for t in 1:max_iter\n",
    "#         copyto!(new_a, a)\n",
    "#         for (i, player) in enumerate(g.players)\n",
    "#             if N == 2\n",
    "#                 a_except_i = new_a[3-i]\n",
    "#             else\n",
    "#                 a_except_i = (new_a[i+1:N]..., new_a[1:i-1]...)\n",
    "#             end\n",
    "#             new_a[i] = best_response(player, a_except_i,\n",
    "#                                      tie_breaking=tie_breaking)\n",
    "#             if verbose\n",
    "#                 println(\"player $i: $new_a\")\n",
    "#             end\n",
    "#         end\n",
    "#         if new_a == a\n",
    "#             return a\n",
    "#         else\n",
    "#             copyto!(a, new_a)\n",
    "#         end\n",
    "#     end\n",
    "    \n",
    "#     println(\"No pure Nash equilibrium found\")\n",
    "#     return a\n",
    "# end"
   ]
  },
  {
   "cell_type": "code",
   "execution_count": null,
   "id": "b20a843f",
   "metadata": {},
   "outputs": [],
   "source": [
    "# function get_equilbrium(coalition)\n",
    "#     game, player_idx = construct_game(coalition)\n",
    "#     eq = sequential_best_response(game)"
   ]
  },
  {
   "cell_type": "code",
   "execution_count": null,
   "id": "2674c573",
   "metadata": {},
   "outputs": [],
   "source": []
  },
  {
   "cell_type": "code",
   "execution_count": 64,
   "id": "6445c408",
   "metadata": {},
   "outputs": [],
   "source": [
    "# function get_coalition(all_party, big_coalition)\n",
    "#     coalitions = [big_coalition]\n",
    "#     for p in all_party\n",
    "#         if !(p in big_coalition)\n",
    "#             push!(coalitions, [p])\n",
    "#         end\n",
    "#     end\n",
    "#     return coalitions\n",
    "# end\n",
    "\n",
    "# prog = Progress(2^length(toll_edges) - 1)\n",
    "# toll_edges = sort([e[1] for e in E_t])\n",
    "# powerset_score = Dict()\n",
    "# for big_coalition in powerset(toll_edges)\n",
    "#     if length(big_coalition) > 0\n",
    "#         ProgressMeter.next!(prog)\n",
    "#         big_coalition = sort(Array(big_coalition))\n",
    "#         coalitions = get_coalition(toll_edges, big_coalition)\n",
    "#         equil_tp = get_equilibrium(coalitions)\n",
    "#         powerset_score[big_coalition] = coalition_revenue(coalitions, equil_tp)[1]\n",
    "#     end\n",
    "# end\n",
    "# ProgressMeter.finish!(prog)\n",
    "\n",
    "# powerset_score"
   ]
  },
  {
   "cell_type": "code",
   "execution_count": 65,
   "id": "cdf36705",
   "metadata": {},
   "outputs": [],
   "source": [
    "# shapley = Dict((e, 0.) for e in toll_edges)\n",
    "\n",
    "# for es_perm in permutations(toll_edges)\n",
    "#     curr_gain = 0.\n",
    "#     for i in 1:length(es_perm)\n",
    "#         e_i = es_perm[i]\n",
    "#         val = powerset_score[sort(es_perm[1:i])]\n",
    "#         shapley[e_i] += (val - curr_gain)\n",
    "#         curr_gain = val\n",
    "#     end\n",
    "# end\n",
    "\n",
    "# multiplier = powerset_score[toll_edges] / sum(values(shapley))\n",
    "# for e in keys(shapley)\n",
    "#     shapley[e] *= multiplier\n",
    "# end\n",
    "\n",
    "# shapley"
   ]
  },
  {
   "cell_type": "code",
   "execution_count": null,
   "id": "4ac61043",
   "metadata": {},
   "outputs": [],
   "source": []
  },
  {
   "cell_type": "code",
   "execution_count": null,
   "id": "0ce9001d",
   "metadata": {},
   "outputs": [],
   "source": []
  },
  {
   "cell_type": "code",
   "execution_count": 350,
   "id": "038ffce0",
   "metadata": {},
   "outputs": [
    {
     "data": {
      "text/plain": [
       "8-element Vector{Float64}:\n",
       "  0.0\n",
       "  0.0\n",
       " 32.962318064112814\n",
       " 13.500758996338838\n",
       "  0.0\n",
       "  8.869095454951477\n",
       "  9.56246093401213\n",
       " 35.10536655058475"
      ]
     },
     "execution_count": 350,
     "metadata": {},
     "output_type": "execute_result"
    }
   ],
   "source": [
    "value.(first(results)[2][2])"
   ]
  },
  {
   "cell_type": "code",
   "execution_count": null,
   "id": "1f32f12c",
   "metadata": {},
   "outputs": [],
   "source": []
  }
 ],
 "metadata": {
  "kernelspec": {
   "display_name": "Julia 1.6.6",
   "language": "julia",
   "name": "julia-1.6"
  },
  "language_info": {
   "file_extension": ".jl",
   "mimetype": "application/julia",
   "name": "julia",
   "version": "1.6.6"
  }
 },
 "nbformat": 4,
 "nbformat_minor": 5
}
